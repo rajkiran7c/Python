{
  "nbformat": 4,
  "nbformat_minor": 0,
  "metadata": {
    "colab": {
      "provenance": [],
      "authorship_tag": "ABX9TyO7O7TLipOkL0ivs4pUzEYm",
      "include_colab_link": true
    },
    "kernelspec": {
      "name": "python3",
      "display_name": "Python 3"
    },
    "language_info": {
      "name": "python"
    }
  },
  "cells": [
    {
      "cell_type": "markdown",
      "metadata": {
        "id": "view-in-github",
        "colab_type": "text"
      },
      "source": [
        "<a href=\"https://colab.research.google.com/github/rajkiran7c/Python/blob/main/class.ipynb\" target=\"_parent\"><img src=\"https://colab.research.google.com/assets/colab-badge.svg\" alt=\"Open In Colab\"/></a>"
      ]
    },
    {
      "cell_type": "code",
      "source": [
        "\"\"\"\n",
        "1st => want to define a class ex=(class string  :).in this place string is an ADDRESS(object)\n",
        "2nd=> want to create a templete ex=(name,age,extra)\n",
        "3=> create a varible for  defined ADDRESS ex(x=adress ,y=address)\n",
        "final print with address\n",
        "\"\"\""
      ],
      "metadata": {
        "id": "J9Q0qz30HcVA"
      },
      "execution_count": null,
      "outputs": []
    },
    {
      "cell_type": "code",
      "execution_count": null,
      "metadata": {
        "colab": {
          "base_uri": "https://localhost:8080/"
        },
        "id": "LvEIz7M6E5th",
        "outputId": "72bf7275-dc85-460d-8949-c0ebf12170d5"
      },
      "outputs": [
        {
          "output_type": "stream",
          "name": "stdout",
          "text": [
            "bc1438 1995\n"
          ]
        }
      ],
      "source": [
        "class profile:\n",
        "   Name=\"bc1438\"\n",
        "   DOB=1995\n",
        "\n",
        "info=profile\n",
        "print(info.Name,info.DOB)"
      ]
    },
    {
      "cell_type": "code",
      "source": [
        "class members:\n",
        "  Father=\"durai\"\n",
        "  Mother=\"ladha\"\n",
        "  Brother=\"Kishore\"\n",
        "\n",
        "family=members\n",
        "print(family.Father,family.Mother,family.Brother)"
      ],
      "metadata": {
        "colab": {
          "base_uri": "https://localhost:8080/"
        },
        "id": "Ggvdt75uI76Y",
        "outputId": "2a7d1885-8ed5-451f-b86b-b9cd39e56870"
      },
      "execution_count": null,
      "outputs": [
        {
          "output_type": "stream",
          "name": "stdout",
          "text": [
            "durai ladha Kishore\n"
          ]
        }
      ]
    },
    {
      "cell_type": "code",
      "source": [
        "\"\"\"\n",
        "Class with function\n",
        "1st => want to define a class ex=(class string  :).in this place string is an ADDRESS(object)\n",
        "2nd=> want to create a templete ex=(name,age,extra)\n",
        "3=> create a VARIABLE for  defined ADDRESS ex(x=adress ,y=address x&y are variables)\n",
        "final print with address.\n",
        "\n",
        "it must define like this    #__init__(double _)\n",
        "                def__init__(self,\n",
        "\n",
        "if we need to define like this\n",
        " def show(self):\n",
        "\n",
        "\n",
        "and we want to print\n",
        "VARIABLE.show()\n",
        "\n",
        "\"\"\""
      ],
      "metadata": {
        "id": "asWGMyqeJawY"
      },
      "execution_count": null,
      "outputs": []
    },
    {
      "cell_type": "code",
      "source": [
        "class members:\n",
        "   def __init__(self,Age,Job,Amount):\n",
        "    self.age=Age\n",
        "    self.work=Job\n",
        "    self.income=Amount\n",
        "   def show(self):\n",
        "      print(\"he is my father and his age is\",self.age,\n",
        "          \"He is doing \",self.work, \"and his income is \",self.income)\n",
        "\n",
        "mem1=members(51,\"business\",10000)\n",
        "mem1.show()"
      ],
      "metadata": {
        "id": "TMUrqPigJutI",
        "colab": {
          "base_uri": "https://localhost:8080/"
        },
        "outputId": "a54684ee-d0ed-489f-d6f7-ee148da49c52"
      },
      "execution_count": null,
      "outputs": [
        {
          "output_type": "stream",
          "name": "stdout",
          "text": [
            "he is my father and his age is 51 He is doing  business and his income is  10000\n"
          ]
        }
      ]
    },
    {
      "cell_type": "code",
      "source": [
        "class gym:\n",
        "    def __init__(self,monday,tuesday,wednesday):\n",
        "      self.Monday=monday\n",
        "      self.Tuesday=tuesday\n",
        "      self.Wednesday=wednesday\n",
        "\n",
        "    def show(self):\n",
        "      print(\"this is my workout routine .\",self.Monday,\"i will workout it on monday.\"\n",
        "      ,self.Tuesday,\"i will do it on tuesday.\",self.Wednesday,\"for wednesday.\")\n",
        "\n",
        "routine=gym(\"chest\",\"back\",\"legs\")\n",
        "routine.show()\n"
      ],
      "metadata": {
        "colab": {
          "base_uri": "https://localhost:8080/"
        },
        "id": "0cAeDe88C020",
        "outputId": "a1afd6e4-fbcf-406d-b839-b6d06f1d05ab"
      },
      "execution_count": null,
      "outputs": [
        {
          "output_type": "stream",
          "name": "stdout",
          "text": [
            "this is my workout routine . chest i will workout it on monday. back i will do it on tuesday. legs for wednesday.\n"
          ]
        }
      ]
    },
    {
      "cell_type": "code",
      "source": [
        "class emp():\n",
        "    def __init__(self, id, name, salary):\n",
        "        self.emp_id = id\n",
        "        self.emp_name = name\n",
        "        self.monthly_income = salary\n",
        "\n",
        "    def show(self):\n",
        "        print(\"employee id is :\", self.emp_id)\n",
        "        print(\"his name is : \", self.emp_name)\n",
        "        print(\"and his salary is :\", self.monthly_income)\n",
        "\n",
        "class tcs(emp):\n",
        "    def __init__(self, id, name, salary, location):\n",
        "        super().__init__(id, name, salary)\n",
        "        self.location = location\n",
        "\n",
        "    def show(self):\n",
        "        print(\"employee id is :\", self.emp_id)\n",
        "        print(\"his name is : \", self.emp_name)\n",
        "        print(\"and his salary is :\", self.monthly_income)\n",
        "        print(\"location is : \", self.location)\n",
        "\n",
        "company1 = tcs(12, 23, 23, \"Bangalore\")\n",
        "print(company1.show())"
      ],
      "metadata": {
        "id": "QFK7HKRWQIou",
        "colab": {
          "base_uri": "https://localhost:8080/"
        },
        "outputId": "a42e8705-8e40-4516-b485-4474738bce70"
      },
      "execution_count": null,
      "outputs": [
        {
          "output_type": "stream",
          "name": "stdout",
          "text": [
            "employee id is : 12\n",
            "his name is :  23\n",
            "and his salary is : 23\n",
            "location is :  Bangalore\n",
            "None\n"
          ]
        }
      ]
    },
    {
      "cell_type": "code",
      "source": [
        "class emp():\n",
        "    def __init__(self, id, name, salary):\n",
        "        self.emp_id = id\n",
        "        self.emp_name = name\n",
        "        self.monthly_income = salary\n",
        "\n",
        "    def show(self):\n",
        "        print(\"employee id is :\", self.emp_id)\n",
        "        print(\"his name is : \", self.emp_name)\n",
        "        print(\"and his salary is :\", self.monthly_income)\n",
        "\n",
        "class tcs(emp):\n",
        "    def __init__(self, id, name, salary, location):\n",
        "        super().__init__(id, name, salary)\n",
        "        self.location = location\n",
        "    def update(self,new_id):\n",
        "      self.emp_id=new_id\n",
        "\n",
        "    def f_salary(self):\n",
        "        self.monthly_income=float(self.monthly_income)\n",
        "\n",
        "\n",
        "    def show(self):\n",
        "        print(\"employee id is :\", self.emp_id)\n",
        "        print(\"his name is : \", self.emp_name)\n",
        "        print(\"and his salary is :\", self.monthly_income)\n",
        "        print(\"location is : \", self.location)\n",
        "\n",
        "class hcl(emp):\n",
        "     def __init__(self,id,name,salary,gender,bg,dob):\n",
        "       super().__init__(id, name, salary)\n",
        "       self.gender=gender\n",
        "       self.bg=bg\n",
        "       self.dob=dob\n",
        "     def update(self,new_id):\n",
        "       self.emp_id=new_id\n",
        "\n",
        "     def pf(self):\n",
        "       self.monthly_income=self.monthly_income -(0.1*self.monthly_income)\n",
        "\n",
        "\n",
        "     def show(self):\n",
        "        print(\"employee id is :\", self.emp_id)\n",
        "        print(\"his name is : \", self.emp_name)\n",
        "        print(\"and his salary is :\", self.monthly_income)\n",
        "        print(\"gender is :\",self.gender)\n",
        "        print(\"bg is : \",self.bg)\n",
        "        print(\"dob is : \",self.dob)\n",
        "\n",
        "\n",
        "\n",
        "class infy(emp):\n",
        "    def __init__(self,id, name, salary,experience,mobile):\n",
        "      super().__init__(id, name, salary)\n",
        "      self.exp=experience\n",
        "      self.contact=mobile\n",
        "\n",
        "    def show(self):\n",
        "       print(\"employee id is :\", self.emp_id)\n",
        "       print(\"his name is : \", self.emp_name)\n",
        "       print(\"and his salary is :\", self.monthly_income)\n",
        "       print(\"experience is :\",self.exp)\n",
        "       print(\"contact number is :\",self.contact)\n",
        "    def update(self,new_id):\n",
        "      self.emp_id=new_id\n",
        "\n",
        "    def spa(self):\n",
        "       self.monthly_income= self.monthly_income*12\n",
        "\n",
        "company3=infy(34,\"raj\",20000,\"5yrs\",99999)\n",
        "company3.update(\"infy34\")\n",
        "company3.spa()\n",
        "company3.show()\n",
        "company2=hcl(34,\"raj\",20000,\"male\",\"o+\",\"03 jan 1994\")\n",
        "company2.update(\"hcl34\")\n",
        "company2.pf()\n",
        "#company2.s_name()\n",
        "company2.show()\n",
        "company1=tcs(34,\"raj\",20000,\"karur\")\n",
        "company1.f_salary()\n",
        "company1.update(\"tcs34\")\n",
        "company1.show()\n"
      ],
      "metadata": {
        "colab": {
          "base_uri": "https://localhost:8080/"
        },
        "id": "mRmyY_xuysBx",
        "outputId": "9573f17c-1e49-4ff7-cceb-1918f2d0f93b"
      },
      "execution_count": null,
      "outputs": [
        {
          "output_type": "stream",
          "name": "stdout",
          "text": [
            "employee id is : infy34\n",
            "his name is :  raj\n",
            "and his salary is : 240000\n",
            "experience is : 5yrs\n",
            "contact number is : 99999\n",
            "employee id is : hcl34\n",
            "his name is :  raj\n",
            "and his salary is : 18000.0\n",
            "gender is : male\n",
            "bg is :  o+\n",
            "dob is :  03 jan 1994\n",
            "employee id is : tcs34\n",
            "his name is :  raj\n",
            "and his salary is : 20000.0\n",
            "location is :  karur\n"
          ]
        }
      ]
    }
  ]
}