{
  "nbformat": 4,
  "nbformat_minor": 0,
  "metadata": {
    "colab": {
      "provenance": [],
      "authorship_tag": "ABX9TyOLG7uZ7CighZstTniyoI64",
      "include_colab_link": true
    },
    "kernelspec": {
      "name": "python3",
      "display_name": "Python 3"
    },
    "language_info": {
      "name": "python"
    }
  },
  "cells": [
    {
      "cell_type": "markdown",
      "metadata": {
        "id": "view-in-github",
        "colab_type": "text"
      },
      "source": [
        "<a href=\"https://colab.research.google.com/github/rajkiran7c/Python/blob/main/basics.ipynb\" target=\"_parent\"><img src=\"https://colab.research.google.com/assets/colab-badge.svg\" alt=\"Open In Colab\"/></a>"
      ]
    },
    {
      "cell_type": "code",
      "execution_count": null,
      "metadata": {
        "colab": {
          "base_uri": "https://localhost:8080/"
        },
        "id": "syiCEviE8y20",
        "outputId": "62d118a4-1bf3-44e7-a3d7-a503c4d49e36"
      },
      "outputs": [
        {
          "output_type": "stream",
          "name": "stdout",
          "text": [
            "Hello friends!\n"
          ]
        }
      ],
      "source": [
        "print(\"Hello friends!\")"
      ]
    },
    {
      "cell_type": "code",
      "source": [
        "#input from users"
      ],
      "metadata": {
        "id": "n2DwW8_Z9YJG"
      },
      "execution_count": null,
      "outputs": []
    },
    {
      "cell_type": "code",
      "source": [
        "name=input(\"enter your name :\" )\n",
        "\n",
        "print(name)"
      ],
      "metadata": {
        "colab": {
          "base_uri": "https://localhost:8080/"
        },
        "id": "EfA5xTxh9lHr",
        "outputId": "eb30da6b-760d-47eb-cf1d-c9c2b7c151a8"
      },
      "execution_count": 7,
      "outputs": [
        {
          "output_type": "stream",
          "name": "stdout",
          "text": [
            "enter your name :rajkiran\n",
            "rajkiran\n"
          ]
        }
      ]
    },
    {
      "cell_type": "code",
      "source": [
        "age=int(input(\"enter your age :\"))\n",
        "\n",
        "print(age)"
      ],
      "metadata": {
        "colab": {
          "base_uri": "https://localhost:8080/"
        },
        "id": "Zsc7Jzxw-MeN",
        "outputId": "8748d7cd-010c-437c-f8b3-d7b4e88db650"
      },
      "execution_count": 8,
      "outputs": [
        {
          "output_type": "stream",
          "name": "stdout",
          "text": [
            "enter your age :27\n",
            "27\n"
          ]
        }
      ]
    },
    {
      "cell_type": "code",
      "source": [
        "\n",
        "#print this paragraph\n",
        "\n",
        "#Greeting: Hello, my name is rajkiran.\n",
        "#I am studied Data science at Guvi in 2023.\n",
        "#Goal: I am looking for data scientist .\n",
        "#Interest:I am interested in bodybuilding/cricket.\n"
      ],
      "metadata": {
        "id": "7x_0ELEI-d-I"
      },
      "execution_count": null,
      "outputs": []
    },
    {
      "cell_type": "code",
      "source": [
        "name=input(\"enter the name :\")\n",
        "year =int(input(\"passed out year :\"))\n",
        "course=input(\"course : \")\n",
        "job=input(\"perfect job :\")\n",
        "interest=input(\"interested in :\")\n",
        "\n",
        "print(f\"Hello,\\n my name is {name}.\\n i am studied {course} at guvi {year}.\\n Goal : i am looking for {job},\\n Interest:i am interested in {interest}\")"
      ],
      "metadata": {
        "colab": {
          "base_uri": "https://localhost:8080/"
        },
        "id": "0Z_YZRDB-8_5",
        "outputId": "a1b2bab6-879a-4fcf-d566-20a5d406c03f"
      },
      "execution_count": 18,
      "outputs": [
        {
          "output_type": "stream",
          "name": "stdout",
          "text": [
            "enter the name :Rajkiran\n",
            "passed out year :2023\n",
            "course : Data science\n",
            "perfect job :Data scientist\n",
            "interested in :Bodybuilding/Cricket\n",
            "Hello,\n",
            " my name is Rajkiran.\n",
            " i am studied Data science at guvi 2023.\n",
            " Goal : i am looking for Data scientist,\n",
            " Interest:i am interested in Bodybuilding/Cricket\n"
          ]
        }
      ]
    }
  ]
}