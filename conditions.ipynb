{
  "nbformat": 4,
  "nbformat_minor": 0,
  "metadata": {
    "colab": {
      "provenance": [],
      "authorship_tag": "ABX9TyNFed5u3MWTL9T/s/8HFfnG",
      "include_colab_link": true
    },
    "kernelspec": {
      "name": "python3",
      "display_name": "Python 3"
    },
    "language_info": {
      "name": "python"
    }
  },
  "cells": [
    {
      "cell_type": "markdown",
      "metadata": {
        "id": "view-in-github",
        "colab_type": "text"
      },
      "source": [
        "<a href=\"https://colab.research.google.com/github/rajkiran7c/Python/blob/main/conditions.ipynb\" target=\"_parent\"><img src=\"https://colab.research.google.com/assets/colab-badge.svg\" alt=\"Open In Colab\"/></a>"
      ]
    },
    {
      "cell_type": "code",
      "execution_count": 8,
      "metadata": {
        "id": "rPGUVd8ZHr1V",
        "colab": {
          "base_uri": "https://localhost:8080/"
        },
        "outputId": "297035c3-544c-404c-b763-36928ddf2022"
      },
      "outputs": [
        {
          "output_type": "stream",
          "name": "stdout",
          "text": [
            "a is bigger\n"
          ]
        }
      ],
      "source": [
        "a=100\n",
        "b=20\n",
        "if a>b:\n",
        "  print(\"a is bigger\")"
      ]
    },
    {
      "cell_type": "code",
      "source": [
        "a=100\n",
        "b=200\n",
        "if a<b:\n",
        "  print(\"b is bigger\")"
      ],
      "metadata": {
        "colab": {
          "base_uri": "https://localhost:8080/"
        },
        "id": "kW7zSgNpVzGY",
        "outputId": "e18cc231-9d8a-4415-d81b-3857d1caa1f8"
      },
      "execution_count": 6,
      "outputs": [
        {
          "output_type": "stream",
          "name": "stdout",
          "text": [
            "b is bigger\n"
          ]
        }
      ]
    },
    {
      "cell_type": "code",
      "source": [
        "a=int(input(\"value :\"))\n",
        "b=int(input(\"value : \"))\n",
        "if a==b:\n",
        " print(\"equal\")\n",
        "elif a<b:\n",
        " print(\"b is bigger \")\n",
        "else:\n",
        " print(\"a is bigger\")\n",
        "\n",
        "print(\"see the results\")"
      ],
      "metadata": {
        "colab": {
          "base_uri": "https://localhost:8080/"
        },
        "id": "zZWLRx6SW33L",
        "outputId": "59aad701-03e2-48d6-fa71-afd1af4dc0d0"
      },
      "execution_count": 12,
      "outputs": [
        {
          "output_type": "stream",
          "name": "stdout",
          "text": [
            "value :20\n",
            "value : 10\n",
            "a is bigger\n",
            "see the results\n"
          ]
        }
      ]
    },
    {
      "cell_type": "code",
      "source": [
        "#nested if"
      ],
      "metadata": {
        "id": "7KM7hqYBYGG8"
      },
      "execution_count": null,
      "outputs": []
    },
    {
      "cell_type": "code",
      "source": [
        "a= int(input('Enter a positive or negative integer:'))\n",
        "\n",
        "if a >= 0:\n",
        "   print('a is greater than zero')\n",
        "   if a> 100:\n",
        "      print('and is even greater than 100')\n",
        "   else:\n",
        "      print('a is negative')\n",
        "\n",
        "print(\"calculated\")"
      ],
      "metadata": {
        "colab": {
          "base_uri": "https://localhost:8080/"
        },
        "id": "hyNgYyi0c2Oq",
        "outputId": "59dc4232-c015-47a9-8a2a-d6f18e4f970e"
      },
      "execution_count": 31,
      "outputs": [
        {
          "output_type": "stream",
          "name": "stdout",
          "text": [
            "Enter a positive or negative integer:101\n",
            "a is greater than zero\n",
            "and is even greater than 100\n"
          ]
        }
      ]
    }
  ]
}