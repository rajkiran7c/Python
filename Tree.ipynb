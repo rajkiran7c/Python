{
  "nbformat": 4,
  "nbformat_minor": 0,
  "metadata": {
    "colab": {
      "provenance": [],
      "authorship_tag": "ABX9TyM2JaSNCrLiGyXHjE7zm4Dt",
      "include_colab_link": true
    },
    "kernelspec": {
      "name": "python3",
      "display_name": "Python 3"
    },
    "language_info": {
      "name": "python"
    }
  },
  "cells": [
    {
      "cell_type": "markdown",
      "metadata": {
        "id": "view-in-github",
        "colab_type": "text"
      },
      "source": [
        "<a href=\"https://colab.research.google.com/github/rajkiran7c/Python/blob/main/Tree.ipynb\" target=\"_parent\"><img src=\"https://colab.research.google.com/assets/colab-badge.svg\" alt=\"Open In Colab\"/></a>"
      ]
    },
    {
      "cell_type": "code",
      "source": [
        "class root:\n",
        "   def __init__(self,node):\n",
        "    self.left=None\n",
        "    self.node_value=node\n",
        "    self.right=None\n",
        "   def show(self):\n",
        "    if self.left:\n",
        "      self.left.show()\n",
        "    print(self.node_value)\n",
        "    if self.right:\n",
        "      self.right.show()\n",
        "\n",
        "   def CreateNewNode(self,New_node_value):\n",
        "        if New_node_value<self.node_value:\n",
        "          if self.left is None :\n",
        "              self.left=root(New_node_value)\n",
        "          else:\n",
        "            self.left.CreateNewNode(New_node_value)\n",
        "        else:\n",
        "          if self.right is None:\n",
        "             self.right=root(New_node_value)\n",
        "          else:\n",
        "            self.right.CreateNewNode(New_node_value)\n",
        "\n",
        "Tree= root(100)\n",
        "Tree.CreateNewNode(10)\n",
        "Tree.CreateNewNode(515)\n",
        "Tree.CreateNewNode(1120)\n",
        "Tree.CreateNewNode(-155)\n",
        "Tree.CreateNewNode(89)\n",
        "Tree.CreateNewNode(-35)\n",
        "Tree.CreateNewNode(-120)\n",
        "Tree.CreateNewNode(-1955)\n",
        "Tree.show()\n"
      ],
      "metadata": {
        "colab": {
          "base_uri": "https://localhost:8080/"
        },
        "id": "CM07YzNaD6Ix",
        "outputId": "52fad775-f254-49ec-89eb-be9f7c110bf2"
      },
      "execution_count": null,
      "outputs": [
        {
          "output_type": "stream",
          "name": "stdout",
          "text": [
            "-1955\n",
            "-155\n",
            "-120\n",
            "-35\n",
            "10\n",
            "89\n",
            "100\n",
            "515\n",
            "1120\n"
          ]
        }
      ]
    },
    {
      "cell_type": "code",
      "source": [
        "class tree:\n",
        "  def __init__(self,Data):\n",
        "    self.right = None\n",
        "    self.left = None\n",
        "    self.node = Data\n",
        "  def show(self):\n",
        "    if self.right:\n",
        "      self.right.show()\n",
        "    print(self.node)\n",
        "    if self.left:\n",
        "      self.left.show()\n",
        "  def insert(self,new_data):\n",
        "    if new_data<self.node:\n",
        "      if self.left is None:\n",
        "        self.left=tree(new_data)\n",
        "      else:\n",
        "        self.left.insert(new_data)\n",
        "    else:\n",
        "      if self.right is None:\n",
        "        self.right = tree(new_data)\n",
        "      else:\n",
        "        self.right.insert(new_data)\n",
        "\n",
        "sand = tree(55)\n",
        "sand.insert(25)\n",
        "sand.insert(60)\n",
        "sand.insert(75)\n",
        "sand.insert(79)\n",
        "sand.insert(19)\n",
        "sand.insert(66)\n",
        "sand.insert(0)\n",
        "sand.insert(-20)\n",
        "sand.insert(-50)\n",
        "sand.insert(300)\n",
        "sand.insert(240)\n",
        "sand.insert(-3.767)\n",
        "sand.insert(5)\n",
        "sand.insert(3)\n",
        "sand.insert(10)\n",
        "sand.show()"
      ],
      "metadata": {
        "id": "VtwmUL4KHi9M",
        "colab": {
          "base_uri": "https://localhost:8080/"
        },
        "outputId": "c7f381a6-baa9-4489-85b8-82999c71c6a9"
      },
      "execution_count": 3,
      "outputs": [
        {
          "output_type": "stream",
          "name": "stdout",
          "text": [
            "300\n",
            "240\n",
            "79\n",
            "75\n",
            "66\n",
            "60\n",
            "55\n",
            "25\n",
            "19\n",
            "10\n",
            "5\n",
            "3\n",
            "0\n",
            "-3.767\n",
            "-20\n",
            "-50\n"
          ]
        }
      ]
    }
  ]
}