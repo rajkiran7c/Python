{
  "nbformat": 4,
  "nbformat_minor": 0,
  "metadata": {
    "colab": {
      "provenance": [],
      "authorship_tag": "ABX9TyODS/QD6eCfRIicxnXCREER",
      "include_colab_link": true
    },
    "kernelspec": {
      "name": "python3",
      "display_name": "Python 3"
    },
    "language_info": {
      "name": "python"
    }
  },
  "cells": [
    {
      "cell_type": "markdown",
      "metadata": {
        "id": "view-in-github",
        "colab_type": "text"
      },
      "source": [
        "<a href=\"https://colab.research.google.com/github/rajkiran7c/rajkiran7c/blob/main/forloob.ipynb\" target=\"_parent\"><img src=\"https://colab.research.google.com/assets/colab-badge.svg\" alt=\"Open In Colab\"/></a>"
      ]
    },
    {
      "cell_type": "code",
      "execution_count": null,
      "metadata": {
        "colab": {
          "base_uri": "https://localhost:8080/"
        },
        "id": "NqH5yW-JDeKR",
        "outputId": "54127e52-101c-412d-87dc-24f0a86c4468"
      },
      "outputs": [
        {
          "output_type": "stream",
          "name": "stdout",
          "text": [
            "1\n",
            "2\n",
            "3\n",
            "4\n",
            "5\n",
            "6\n",
            "7\n",
            "8\n",
            "9\n"
          ]
        }
      ],
      "source": [
        "for i in range(1, 10):\n",
        "  print(i)"
      ]
    },
    {
      "cell_type": "code",
      "source": [
        "name=[\"raj\",\"kiran\",\"kishore\",\"kumar\",\"ladha\",\"durai\",\"samy\"]\n",
        "for i in name:\n",
        "  print(i)"
      ],
      "metadata": {
        "colab": {
          "base_uri": "https://localhost:8080/"
        },
        "id": "ja2_psx7DtJ5",
        "outputId": "d362ed46-9b5d-4443-eb14-9b60de877bdd"
      },
      "execution_count": null,
      "outputs": [
        {
          "output_type": "stream",
          "name": "stdout",
          "text": [
            "raj\n",
            "kiran\n",
            "kishore\n",
            "kumar\n",
            "ladha\n",
            "durai\n",
            "samy\n"
          ]
        }
      ]
    },
    {
      "cell_type": "code",
      "source": [
        "name=[\"raj\",\"kiran\",\"kishore\",\"kumar\",\"ladha\",\"durai\",\"samy\"]\n",
        "for i in name:\n",
        "  if i==\"ladha\":\n",
        "   break\n",
        "  print(i)\n"
      ],
      "metadata": {
        "colab": {
          "base_uri": "https://localhost:8080/"
        },
        "id": "hw--mmA8Gbsr",
        "outputId": "28fa176a-d753-4518-8522-d5f168726f18"
      },
      "execution_count": null,
      "outputs": [
        {
          "output_type": "stream",
          "name": "stdout",
          "text": [
            "raj\n",
            "kiran\n",
            "kishore\n",
            "kumar\n"
          ]
        }
      ]
    },
    {
      "cell_type": "code",
      "source": [
        "numbers=[1,2,3,4,5,6,7,8]\n",
        "for i in numbers:\n",
        "  if i==6:\n",
        "    continue\n",
        "  print(i)"
      ],
      "metadata": {
        "colab": {
          "base_uri": "https://localhost:8080/"
        },
        "id": "BsqjxCgsKBFU",
        "outputId": "d66ec863-6d91-4aec-abb9-fad87c3e48ec"
      },
      "execution_count": null,
      "outputs": [
        {
          "output_type": "stream",
          "name": "stdout",
          "text": [
            "1\n",
            "2\n",
            "3\n",
            "4\n",
            "5\n",
            "7\n",
            "8\n"
          ]
        }
      ]
    },
    {
      "cell_type": "code",
      "source": [
        "names=[\"raj\",\"kiran\",\"kishore\",\"kumar\",\"ladha\",\"durai\",\"samy\"]\n",
        "for i in names:\n",
        "  if i==\"kishore\":\n",
        "    continue\n",
        "  print(i)"
      ],
      "metadata": {
        "colab": {
          "base_uri": "https://localhost:8080/"
        },
        "id": "vKZKfwXnJ6xp",
        "outputId": "a1896fbd-8d61-493f-aad1-59335456a9d2"
      },
      "execution_count": null,
      "outputs": [
        {
          "output_type": "stream",
          "name": "stdout",
          "text": [
            "raj\n",
            "kiran\n",
            "kumar\n",
            "ladha\n",
            "durai\n",
            "samy\n"
          ]
        }
      ]
    },
    {
      "cell_type": "code",
      "source": [
        "names=[\"raj\",\"kiran\",\"kishore\",\"kumar\",\"ladha\",\"durai\",\"samy\"]\n",
        "for i in names:\n",
        "  if i==\"kishore\":\n",
        "   print(i)\n",
        "  continue\n"
      ],
      "metadata": {
        "colab": {
          "base_uri": "https://localhost:8080/"
        },
        "id": "WDVkWBp9L0re",
        "outputId": "178b5f44-ab48-4515-ecbb-1f34702596a6"
      },
      "execution_count": null,
      "outputs": [
        {
          "output_type": "stream",
          "name": "stdout",
          "text": [
            "kishore\n"
          ]
        }
      ]
    },
    {
      "cell_type": "code",
      "source": [
        "numbers=[1,2,3,4,5,6,7,8]\n",
        "for i in numbers:\n",
        "  if i==6:\n",
        "    print(i)"
      ],
      "metadata": {
        "colab": {
          "base_uri": "https://localhost:8080/"
        },
        "id": "i6vrtqe8MMpl",
        "outputId": "5d51c980-e670-465c-f731-19fa7a30483e"
      },
      "execution_count": null,
      "outputs": [
        {
          "output_type": "stream",
          "name": "stdout",
          "text": [
            "6\n"
          ]
        }
      ]
    },
    {
      "cell_type": "code",
      "source": [
        "names=[\"raj\",\"kiran\",\"kishore\",\"kumar\",\"ladha\",\"durai\",\"samy\"]\n",
        "search=input(\"enter the name : \")\n",
        "for i in names:\n",
        "  if i==search:\n",
        "    break\n",
        "  print(i)\n"
      ],
      "metadata": {
        "colab": {
          "base_uri": "https://localhost:8080/"
        },
        "id": "Yx-G_SiEMLEQ",
        "outputId": "e340fe6d-dc51-4183-bd3c-94ed67ff976f"
      },
      "execution_count": null,
      "outputs": [
        {
          "output_type": "stream",
          "name": "stdout",
          "text": [
            "enter the name : kumar\n",
            "raj\n",
            "kiran\n",
            "kishore\n"
          ]
        }
      ]
    },
    {
      "cell_type": "code",
      "source": [],
      "metadata": {
        "id": "7a7Rf9TzN6Bv"
      },
      "execution_count": null,
      "outputs": []
    },
    {
      "cell_type": "code",
      "source": [
        "names=[\"raj\",\"kiran\",\"kishore\",\"kumar\",\"ladha\",\"durai\",\"samy\"]\n",
        "search=input(\"enter the name : \")\n",
        "for i in names:\n",
        "   if i==search:\n",
        "     continue\n",
        "   print(i)"
      ],
      "metadata": {
        "colab": {
          "base_uri": "https://localhost:8080/"
        },
        "id": "yfLbCfUsNCIa",
        "outputId": "af63c754-8e9e-48b8-e4cc-838f38083f16"
      },
      "execution_count": null,
      "outputs": [
        {
          "output_type": "stream",
          "name": "stdout",
          "text": [
            "enter the name : ladha\n",
            "raj\n",
            "kiran\n",
            "kishore\n",
            "kumar\n",
            "durai\n",
            "samy\n"
          ]
        }
      ]
    },
    {
      "cell_type": "code",
      "source": [
        "names=[\"raj\",\"kiran\",\"kishore\",\"kumar\",\"ladha\",\"durai\",\"samy\"]\n",
        "search=input(\"enter the name : \")\n",
        "for i in names:\n",
        "   if i == search:\n",
        "    print(i)"
      ],
      "metadata": {
        "colab": {
          "base_uri": "https://localhost:8080/"
        },
        "id": "ue27fRM4NcKF",
        "outputId": "57510366-f2a0-4f94-9619-4e81529ee44f"
      },
      "execution_count": null,
      "outputs": [
        {
          "output_type": "stream",
          "name": "stdout",
          "text": [
            "enter the name : kiran\n",
            "kiran\n"
          ]
        }
      ]
    },
    {
      "cell_type": "code",
      "source": [
        "for i in range(10,100):\n",
        "  if i%10==0:\n",
        "   print(i)\n"
      ],
      "metadata": {
        "colab": {
          "base_uri": "https://localhost:8080/"
        },
        "id": "E8uEGwi8PSO9",
        "outputId": "1bded500-59b5-413c-8d3d-b38d8d8a442f"
      },
      "execution_count": null,
      "outputs": [
        {
          "output_type": "stream",
          "name": "stdout",
          "text": [
            "10\n",
            "20\n",
            "30\n",
            "40\n",
            "50\n",
            "60\n",
            "70\n",
            "80\n",
            "90\n"
          ]
        }
      ]
    },
    {
      "cell_type": "code",
      "source": [
        "for i in range(1, 10):\n",
        "  if i%2==0:\n",
        "    print(i)"
      ],
      "metadata": {
        "colab": {
          "base_uri": "https://localhost:8080/"
        },
        "id": "2ASZM2h_PmXh",
        "outputId": "e4f79607-5807-4427-9444-62a51faf106a"
      },
      "execution_count": null,
      "outputs": [
        {
          "output_type": "stream",
          "name": "stdout",
          "text": [
            "2\n",
            "4\n",
            "6\n",
            "8\n"
          ]
        }
      ]
    },
    {
      "cell_type": "code",
      "source": [
        "for i in range(1, 10):\n",
        "  if i%2!=0:\n",
        "    print(i)\n"
      ],
      "metadata": {
        "colab": {
          "base_uri": "https://localhost:8080/"
        },
        "id": "_CmpOqcGPzUs",
        "outputId": "0d9f3db9-3314-40e0-c24f-1ac9c6af50e5"
      },
      "execution_count": null,
      "outputs": [
        {
          "output_type": "stream",
          "name": "stdout",
          "text": [
            "1\n",
            "3\n",
            "5\n",
            "7\n",
            "9\n"
          ]
        }
      ]
    },
    {
      "cell_type": "code",
      "source": [
        "for i in range(1, 10):\n",
        "  if i%2==0:\n",
        "    break\n",
        "  print(i)\n"
      ],
      "metadata": {
        "colab": {
          "base_uri": "https://localhost:8080/"
        },
        "id": "fmvRXu_7QCKK",
        "outputId": "c87e7b76-8bf2-4093-f3b0-859ca9a120d7"
      },
      "execution_count": null,
      "outputs": [
        {
          "output_type": "stream",
          "name": "stdout",
          "text": [
            "1\n"
          ]
        }
      ]
    },
    {
      "cell_type": "code",
      "source": [
        "for i in range(1,10):\n",
        "  if i%2==0:\n",
        "    continue\n",
        "  print(i)"
      ],
      "metadata": {
        "colab": {
          "base_uri": "https://localhost:8080/"
        },
        "id": "q1GQhtkdQUZ-",
        "outputId": "c3aeda2d-56ed-4534-d3e7-9661023cefed"
      },
      "execution_count": null,
      "outputs": [
        {
          "output_type": "stream",
          "name": "stdout",
          "text": [
            "1\n",
            "3\n",
            "5\n",
            "7\n",
            "9\n"
          ]
        }
      ]
    },
    {
      "cell_type": "code",
      "source": [
        "name=[\"raj\",\"durai\",\"kishore\",\"lad\"]\n",
        "name1=[\"kiran\",\"samy\",\"kumar\",\"ha\"]\n",
        "for x in name:\n",
        "  for y in name1:\n",
        "    print(x,y)"
      ],
      "metadata": {
        "id": "jPUtEKGpQzn9",
        "colab": {
          "base_uri": "https://localhost:8080/"
        },
        "outputId": "c1d5cff8-bba6-44e9-a604-d30441c77e09"
      },
      "execution_count": null,
      "outputs": [
        {
          "output_type": "stream",
          "name": "stdout",
          "text": [
            "raj kiran\n",
            "raj samy\n",
            "raj kumar\n",
            "raj ha\n",
            "durai kiran\n",
            "durai samy\n",
            "durai kumar\n",
            "durai ha\n",
            "kishore kiran\n",
            "kishore samy\n",
            "kishore kumar\n",
            "kishore ha\n",
            "lad kiran\n",
            "lad samy\n",
            "lad kumar\n",
            "lad ha\n"
          ]
        }
      ]
    },
    {
      "cell_type": "code",
      "source": [
        "name=[\"raj\",\"durai\",\"kishore\",\"lad\"]\n",
        "name1=[\"kiran\",\"samy\",\"kumar\",\"ha\"]\n",
        "for i, j in zip(name, name1):\n",
        "  print(i, j)"
      ],
      "metadata": {
        "colab": {
          "base_uri": "https://localhost:8080/"
        },
        "id": "DEIK-OsUdmNG",
        "outputId": "524be975-893b-4e95-e871-d778808295b3"
      },
      "execution_count": null,
      "outputs": [
        {
          "output_type": "stream",
          "name": "stdout",
          "text": [
            "raj kiran\n",
            "durai samy\n",
            "kishore kumar\n",
            "lad ha\n"
          ]
        }
      ]
    },
    {
      "cell_type": "code",
      "source": [
        "name={1:\"durai\", 2:\"ladha\", 3:\"kishore\", 4:\"kiran\"}\n",
        "for i in name.values():\n",
        "  print(i)"
      ],
      "metadata": {
        "colab": {
          "base_uri": "https://localhost:8080/"
        },
        "id": "RBJR-8uPeUGT",
        "outputId": "65fcad2a-7088-4862-dbc4-48dcfab25ae8"
      },
      "execution_count": null,
      "outputs": [
        {
          "output_type": "stream",
          "name": "stdout",
          "text": [
            "durai\n",
            "ladha\n",
            "kishore\n",
            "kiran\n"
          ]
        }
      ]
    },
    {
      "cell_type": "code",
      "source": [
        "name={1:\"durai\", 2:\"ladha\", 3:\"kishore\", 4:\"kiran\"}\n",
        "for i in name.values():\n",
        "  print(i)"
      ],
      "metadata": {
        "colab": {
          "base_uri": "https://localhost:8080/"
        },
        "id": "6v2ARXJrf7k0",
        "outputId": "d6995f67-284d-4863-e1bc-5c6b3597dad3"
      },
      "execution_count": null,
      "outputs": [
        {
          "output_type": "stream",
          "name": "stdout",
          "text": [
            "durai\n",
            "ladha\n",
            "kishore\n",
            "kiran\n"
          ]
        }
      ]
    },
    {
      "cell_type": "code",
      "source": [
        "name={1:\"durai\", 2:\"ladha\", 3:\"kishore\", 4:\"kiran\"}\n",
        "for i in name.keys():\n",
        "  print(i)\n"
      ],
      "metadata": {
        "colab": {
          "base_uri": "https://localhost:8080/"
        },
        "id": "J61LDdHSgFn4",
        "outputId": "4d19de9d-df0a-49cf-834c-82b039eee462"
      },
      "execution_count": null,
      "outputs": [
        {
          "output_type": "stream",
          "name": "stdout",
          "text": [
            "1\n",
            "2\n",
            "3\n",
            "4\n"
          ]
        }
      ]
    },
    {
      "cell_type": "code",
      "source": [
        "name={1:\"durai\", 2:\"ladha\", 3:\"kishore\", 4:\"kiran\"}\n",
        "a=[]\n",
        "for i in name.values():\n",
        "  a.append(i)\n",
        "  print(a)"
      ],
      "metadata": {
        "colab": {
          "base_uri": "https://localhost:8080/"
        },
        "id": "pmCBZK-ggQa_",
        "outputId": "c8992e60-b375-431e-e64a-d2675903d173"
      },
      "execution_count": null,
      "outputs": [
        {
          "output_type": "stream",
          "name": "stdout",
          "text": [
            "['durai']\n",
            "['durai', 'ladha']\n",
            "['durai', 'ladha', 'kishore']\n",
            "['durai', 'ladha', 'kishore', 'kiran']\n"
          ]
        }
      ]
    },
    {
      "cell_type": "code",
      "source": [
        "name1=[\"kiran\",\"samy\",\"kumar\",\"ha\"]\n",
        "a=[]\n",
        "for i in name1.keys():\n",
        "    a.append(i)\n",
        "    print(i)"
      ],
      "metadata": {
        "colab": {
          "base_uri": "https://localhost:8080/"
        },
        "id": "mSKZrq5pjeMQ",
        "outputId": "76ba22ad-cb0c-4b24-8a45-b093ffa31ffd"
      },
      "execution_count": null,
      "outputs": [
        {
          "output_type": "stream",
          "name": "stdout",
          "text": [
            "1\n",
            "2\n",
            "3\n",
            "4\n"
          ]
        }
      ]
    },
    {
      "cell_type": "code",
      "source": [
        "name1=[\"kiran\",\"samy\",\"kumar\",\"ha\"]\n",
        "a=[]\n",
        "for i in name1:\n",
        "  a.append(i)\n",
        "  print(a)"
      ],
      "metadata": {
        "colab": {
          "base_uri": "https://localhost:8080/"
        },
        "id": "p6BvYUqZkj00",
        "outputId": "cd8d40e5-a2fa-4bfe-d2cd-0efe1e53dc8c"
      },
      "execution_count": null,
      "outputs": [
        {
          "output_type": "stream",
          "name": "stdout",
          "text": [
            "['kiran']\n",
            "['kiran', 'samy']\n",
            "['kiran', 'samy', 'kumar']\n",
            "['kiran', 'samy', 'kumar', 'ha']\n"
          ]
        }
      ]
    },
    {
      "cell_type": "code",
      "source": [
        "name1=[\"kiran\",\"samy\",\"kumar\",\"ha\"]\n",
        "a=[]\n",
        "for i in name1:\n",
        "  a.insert(0, i)\n",
        "  print(a)"
      ],
      "metadata": {
        "colab": {
          "base_uri": "https://localhost:8080/"
        },
        "id": "QG7qPd5amC3E",
        "outputId": "d9be6c17-9d5c-4ed1-e92f-dc2977918522"
      },
      "execution_count": null,
      "outputs": [
        {
          "output_type": "stream",
          "name": "stdout",
          "text": [
            "['kiran']\n",
            "['kiran', 'samy']\n",
            "['kiran', 'kumar', 'samy']\n",
            "['kiran', 'ha', 'kumar', 'samy']\n"
          ]
        }
      ]
    },
    {
      "cell_type": "code",
      "source": [
        "print(a)\n"
      ],
      "metadata": {
        "colab": {
          "base_uri": "https://localhost:8080/"
        },
        "id": "6-9Mau4hnBaQ",
        "outputId": "da11f187-7be3-482e-a04f-a3066b445b02"
      },
      "execution_count": null,
      "outputs": [
        {
          "output_type": "stream",
          "name": "stdout",
          "text": [
            "['ha', 'kumar', 'samy', 'kiran']\n"
          ]
        }
      ]
    }
  ]
}