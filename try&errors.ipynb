{
  "nbformat": 4,
  "nbformat_minor": 0,
  "metadata": {
    "colab": {
      "provenance": [],
      "authorship_tag": "ABX9TyNmeoJVNj5OP0xDk+G+avqm",
      "include_colab_link": true
    },
    "kernelspec": {
      "name": "python3",
      "display_name": "Python 3"
    },
    "language_info": {
      "name": "python"
    }
  },
  "cells": [
    {
      "cell_type": "markdown",
      "metadata": {
        "id": "view-in-github",
        "colab_type": "text"
      },
      "source": [
        "<a href=\"https://colab.research.google.com/github/rajkiran7c/Python/blob/main/try%26errors.ipynb\" target=\"_parent\"><img src=\"https://colab.research.google.com/assets/colab-badge.svg\" alt=\"Open In Colab\"/></a>"
      ]
    },
    {
      "cell_type": "code",
      "source": [
        "try:\n",
        "   a=int(input())\n",
        "   b=int(input())\n",
        "   print(a+b)\n",
        "except:\n",
        "   print(\"enter the values in integer\")\n"
      ],
      "metadata": {
        "colab": {
          "base_uri": "https://localhost:8080/"
        },
        "id": "2Ueb1bsThKhc",
        "outputId": "44e7990b-a646-4d06-d386-d1f16e648337"
      },
      "execution_count": 11,
      "outputs": [
        {
          "output_type": "stream",
          "name": "stdout",
          "text": [
            "12\n",
            "sdd\n",
            "check the values\n"
          ]
        }
      ]
    },
    {
      "cell_type": "code",
      "execution_count": 5,
      "metadata": {
        "colab": {
          "base_uri": "https://localhost:8080/"
        },
        "id": "0PXntVC2Iymb",
        "outputId": "56e5bdd2-f5d7-4690-d465-3a2c064a35e9"
      },
      "outputs": [
        {
          "output_type": "stream",
          "name": "stdout",
          "text": [
            "20\n",
            "0\n",
            "zero is is not accepted\n"
          ]
        }
      ],
      "source": [
        "try:\n",
        "  a=int(input())\n",
        "  b=int(input())\n",
        "  print(a/b)\n",
        "\n",
        "except ZeroDivisionError:\n",
        "  print(\"zero is is not accepted\")\n",
        "\n",
        "\n"
      ]
    },
    {
      "cell_type": "code",
      "source": [
        "try:\n",
        "  a=int(input())\n",
        "  b=int(input())\n",
        "  print(a+b)\n",
        "except ValueError:\n",
        "  print(\"enter the value on numbers\")\n"
      ],
      "metadata": {
        "colab": {
          "base_uri": "https://localhost:8080/"
        },
        "id": "cNUVmqH7POeP",
        "outputId": "74a7bb7b-0737-4f65-b65e-ea813a8a7b14"
      },
      "execution_count": 10,
      "outputs": [
        {
          "output_type": "stream",
          "name": "stdout",
          "text": [
            "100\n",
            "asdf\n",
            "enter the value on numbers\n"
          ]
        }
      ]
    },
    {
      "cell_type": "code",
      "source": [
        "try:\n",
        "   a=int(input())\n",
        "   b=int(input())\n",
        "   print(a/b)\n",
        "except ZeroDivisionError:\n",
        "  print(\"zero is is not accepted\")\n",
        "except ValueError:\n",
        "  print(\"enter the correct value\")\n",
        "except:\n",
        "  print(\"enter the correct values\")"
      ],
      "metadata": {
        "colab": {
          "base_uri": "https://localhost:8080/"
        },
        "id": "oqah7x90QHwP",
        "outputId": "45eaa7d2-163d-4811-8cd5-0c6e41d07597"
      },
      "execution_count": 6,
      "outputs": [
        {
          "output_type": "stream",
          "name": "stdout",
          "text": [
            "12\n",
            "dw\n",
            "enter the correct value\n"
          ]
        }
      ]
    }
  ]
}