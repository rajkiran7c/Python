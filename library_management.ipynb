{
  "nbformat": 4,
  "nbformat_minor": 0,
  "metadata": {
    "colab": {
      "provenance": [],
      "authorship_tag": "ABX9TyMdExxIWw90KKrLcI8Wyww0",
      "include_colab_link": true
    },
    "kernelspec": {
      "name": "python3",
      "display_name": "Python 3"
    },
    "language_info": {
      "name": "python"
    }
  },
  "cells": [
    {
      "cell_type": "markdown",
      "metadata": {
        "id": "view-in-github",
        "colab_type": "text"
      },
      "source": [
        "<a href=\"https://colab.research.google.com/github/rajkiran7c/Python/blob/main/library_management.ipynb\" target=\"_parent\"><img src=\"https://colab.research.google.com/assets/colab-badge.svg\" alt=\"Open In Colab\"/></a>"
      ]
    },
    {
      "cell_type": "code",
      "execution_count": 1,
      "metadata": {
        "id": "mnsUnv3Y5bUN",
        "colab": {
          "base_uri": "https://localhost:8080/"
        },
        "outputId": "403bc2c8-0e27-48af-9cdb-fa4d7b287c7d"
      },
      "outputs": [
        {
          "name": "stdout",
          "output_type": "stream",
          "text": [
            "-----------------------------------------------------------------------------\n",
            "select the option below \n",
            "1 - Show the list of books \n",
            "2 - Lend a book \n",
            "3 Customer borrowed books \n",
            "0 - exit\n",
            "1\n",
            "book1 book2 book3 book4 book5 book2\n",
            "-----------------------------------------------------------------------------\n",
            "select the option below \n",
            "1 - Show the list of books \n",
            "2 - Lend a book \n",
            "3 Customer borrowed books \n",
            "0 - exit\n",
            "0\n"
          ]
        }
      ],
      "source": [
        "class library:\n",
        "  def __init__(self,book):\n",
        "    self.book_list = book\n",
        "  def show(self):\n",
        "    print(*self.book_list)\n",
        "  def lend_book(self,book_name):\n",
        "    if book_name in self.book_list:\n",
        "      self.book_list.remove(book_name)\n",
        "      print('Thankyou, Book issued ')\n",
        "      return True\n",
        "    else:\n",
        "      print(\"This book is not availabe \")\n",
        "      return False\n",
        "\n",
        "class customer:\n",
        "  def __init__(self):\n",
        "    self.bookList = []\n",
        "  def add_book(self,book_name):\n",
        "    self.bookList.append(book_name)\n",
        "  def show(self):\n",
        "    print(self.bookList)\n",
        "  def request_book(self):\n",
        "    print('Enter the book ')\n",
        "    self.book = input()\n",
        "    return self.book\n",
        "\n",
        "Library = library(['book1','book2','book3','book4','book5','book2'])\n",
        "Customer = customer()\n",
        "while True:\n",
        "  print('-----------------------------------------------------------------------------')\n",
        "  print(\"select the option below \")\n",
        "  print(\"1 - Show the list of books \\n2 - Lend a book \\n3 Customer borrowed books \\n0 - exit\")\n",
        "  option = int(input())\n",
        "  if option == 1:\n",
        "    Library.show()\n",
        "  elif option == 2:\n",
        "    requested_book = Customer.request_book()\n",
        "    status = Library.lend_book(requested_book)\n",
        "    if status == True:\n",
        "      Customer.add_book(requested_book)\n",
        "  elif option == 3:\n",
        "    Customer.show()\n",
        "\n",
        "  elif option == 0:\n",
        "    break\n",
        "\n"
      ]
    }
  ]
}