{
  "nbformat": 4,
  "nbformat_minor": 0,
  "metadata": {
    "colab": {
      "provenance": [],
      "authorship_tag": "ABX9TyOrqyON9elgtaHekAbBFyqJ",
      "include_colab_link": true
    },
    "kernelspec": {
      "name": "python3",
      "display_name": "Python 3"
    },
    "language_info": {
      "name": "python"
    }
  },
  "cells": [
    {
      "cell_type": "markdown",
      "metadata": {
        "id": "view-in-github",
        "colab_type": "text"
      },
      "source": [
        "<a href=\"https://colab.research.google.com/github/rajkiran7c/Python/blob/main/Password_genrate.ipynb\" target=\"_parent\"><img src=\"https://colab.research.google.com/assets/colab-badge.svg\" alt=\"Open In Colab\"/></a>"
      ]
    },
    {
      "cell_type": "code",
      "execution_count": 16,
      "metadata": {
        "colab": {
          "base_uri": "https://localhost:8080/"
        },
        "id": "NAwboeTdKVQd",
        "outputId": "2f6a6c5d-88fd-4766-a91b-ec2d7d0bb986"
      },
      "outputs": [
        {
          "output_type": "stream",
          "name": "stdout",
          "text": [
            "-------------------------------------------------\n",
            "---------CREATE YOUR PASSWORD--------------------\n",
            "\n",
            "HOW MANY LETTERS YOU WANT IN IN YOUR PASSWORD..? \n",
            "3\n",
            "HOW MANY CHARACTERS YOU WANT..?\n",
            "4\n",
            "HOW MANY NUMBERS YOU WANT ..?\n",
            "2\n",
            "1)%p=wA6$\n"
          ]
        }
      ],
      "source": [
        "import random\n",
        "\n",
        "letters = [\"a\",\"b\",\"c\",\"d\",\"e\",\"f\",\"g\",\"h\",\"i\",\"j\",\"k\",\"l\",\"m\",\"n\",\n",
        "          \"o\",\"p\",\"q\",\"r\",\"s\",\"t\",\"u\",\"v\",\"w\",\"x\",\"y\",\"z\",\n",
        "           \"A\",\"B\",\"C\",\"D\",\"E\",\"F\",\"G\",\"H\",\"I\",\"J\",\"K\",\"L\",\"M\",\n",
        "           \"N\",\"O\",\"P\",\"Q\",\"R\",\"S\",\"T\",\"U\",\"V\",\"W\",\"X\",\"Y\",\"Z\"]\n",
        "\n",
        "characters =[\"~\",\"!\",\"@\",\"#\",\"$\",\"%\",\"^\",\"&\",\"*\",\"(\",\")\",\"_\",\"+\",\"=\",\"-\"]\n",
        "\n",
        "numbers =[\"1\",\"2\",\"3\",\"4\",\"5\",\"6\",\"7\",\"8\",\"9\",\"0\"]\n",
        "\n",
        "print(\"-------------------------------------------------\")\n",
        "print(\"---------CREATE YOUR PASSWORD--------------------\\n\")\n",
        "no_of_letters=int(input(\"HOW MANY LETTERS YOU WANT IN IN YOUR PASSWORD..? \\n\"))\n",
        "no_of_characters=int(input(\"HOW MANY CHARACTERS YOU WANT..?\\n\"))\n",
        "no_of_numbers=int(input(\"HOW MANY NUMBERS YOU WANT ..?\\n\"))\n",
        "password=[]\n",
        "\n",
        "for i in range (1, no_of_letters+1):\n",
        "  char=random.choice(letters)\n",
        "  password+=char\n",
        "\n",
        "for i in range (1, no_of_characters+1):\n",
        "  char=random.choice(characters)\n",
        "  password+=char\n",
        "\n",
        "for i in range  (1, no_of_numbers+1):\n",
        "  char=random.choice(numbers)\n",
        "  password+=char\n",
        "\n",
        "random.shuffle(password)\n",
        "Password=\"\"\n",
        "for i in password:\n",
        "  Password+=i\n",
        "\n",
        "print(Password)\n",
        ""
      ]
    }
  ]
}