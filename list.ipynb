{
  "nbformat": 4,
  "nbformat_minor": 0,
  "metadata": {
    "colab": {
      "provenance": [],
      "authorship_tag": "ABX9TyMePdeMaTKp107ziqrWrziH",
      "include_colab_link": true
    },
    "kernelspec": {
      "name": "python3",
      "display_name": "Python 3"
    },
    "language_info": {
      "name": "python"
    }
  },
  "cells": [
    {
      "cell_type": "markdown",
      "metadata": {
        "id": "view-in-github",
        "colab_type": "text"
      },
      "source": [
        "<a href=\"https://colab.research.google.com/github/rajkiran7c/rajkiran7c/blob/main/list.ipynb\" target=\"_parent\"><img src=\"https://colab.research.google.com/assets/colab-badge.svg\" alt=\"Open In Colab\"/></a>"
      ]
    },
    {
      "cell_type": "code",
      "source": [
        "dir(list)"
      ],
      "metadata": {
        "colab": {
          "base_uri": "https://localhost:8080/"
        },
        "id": "Uy9-ZlzHOO-0",
        "outputId": "9a0e8bfd-3186-4e1d-a8a5-8e1dce20671e"
      },
      "execution_count": 1,
      "outputs": [
        {
          "output_type": "execute_result",
          "data": {
            "text/plain": [
              "['__add__',\n",
              " '__class__',\n",
              " '__class_getitem__',\n",
              " '__contains__',\n",
              " '__delattr__',\n",
              " '__delitem__',\n",
              " '__dir__',\n",
              " '__doc__',\n",
              " '__eq__',\n",
              " '__format__',\n",
              " '__ge__',\n",
              " '__getattribute__',\n",
              " '__getitem__',\n",
              " '__gt__',\n",
              " '__hash__',\n",
              " '__iadd__',\n",
              " '__imul__',\n",
              " '__init__',\n",
              " '__init_subclass__',\n",
              " '__iter__',\n",
              " '__le__',\n",
              " '__len__',\n",
              " '__lt__',\n",
              " '__mul__',\n",
              " '__ne__',\n",
              " '__new__',\n",
              " '__reduce__',\n",
              " '__reduce_ex__',\n",
              " '__repr__',\n",
              " '__reversed__',\n",
              " '__rmul__',\n",
              " '__setattr__',\n",
              " '__setitem__',\n",
              " '__sizeof__',\n",
              " '__str__',\n",
              " '__subclasshook__',\n",
              " 'append',\n",
              " 'clear',\n",
              " 'copy',\n",
              " 'count',\n",
              " 'extend',\n",
              " 'index',\n",
              " 'insert',\n",
              " 'pop',\n",
              " 'remove',\n",
              " 'reverse',\n",
              " 'sort']"
            ]
          },
          "metadata": {},
          "execution_count": 1
        }
      ]
    },
    {
      "cell_type": "code",
      "execution_count": 6,
      "metadata": {
        "colab": {
          "base_uri": "https://localhost:8080/"
        },
        "id": "SgkFBjgKNdKK",
        "outputId": "b85016c4-8c48-4f09-d06f-a80c21a8bf14"
      },
      "outputs": [
        {
          "output_type": "stream",
          "name": "stdout",
          "text": [
            "[[1, 2, 3, 4, 5]]\n"
          ]
        }
      ],
      "source": [
        "list1=[1,2,3,4,5]\n",
        "list2=[]\n",
        "list2.append(list1)\n",
        "\n",
        "print(list2)"
      ]
    },
    {
      "cell_type": "code",
      "source": [
        "list=[\"raj\",\"kiran\",347,7200]\n",
        "list.clear()\n",
        "\n",
        "print(list)"
      ],
      "metadata": {
        "colab": {
          "base_uri": "https://localhost:8080/"
        },
        "id": "cNSXWGotO2Vn",
        "outputId": "130079bf-b8ab-498b-b4ea-21057a09a87f"
      },
      "execution_count": 16,
      "outputs": [
        {
          "output_type": "stream",
          "name": "stdout",
          "text": [
            "[]\n"
          ]
        }
      ]
    },
    {
      "cell_type": "code",
      "source": [
        "list=[\"raj\",\"kiran\",347,7200,\"good\",\"boy\"]\n",
        "list2=list.copy()\n",
        "\n",
        "print(list2)\n"
      ],
      "metadata": {
        "colab": {
          "base_uri": "https://localhost:8080/"
        },
        "id": "o4zlOaHJQItQ",
        "outputId": "a2a99f36-4de8-4124-db28-a9ebc301b371"
      },
      "execution_count": 20,
      "outputs": [
        {
          "output_type": "stream",
          "name": "stdout",
          "text": [
            "['raj', 'kiran', 347, 7200, 'good', 'boy']\n"
          ]
        }
      ]
    },
    {
      "cell_type": "code",
      "source": [
        "names=[\"anand\",\"suresh\",\"ramesh\",\"anand\",\"vijay\",\"anand\",\"ravi\"]\n",
        "count=names.count(\"anand\")\n",
        "\n",
        "print(\"count the no.of anand in this list :\",count)"
      ],
      "metadata": {
        "colab": {
          "base_uri": "https://localhost:8080/"
        },
        "id": "miXB_olUSLD_",
        "outputId": "d93ba87f-9267-46be-f8c6-a5e48202f416"
      },
      "execution_count": 37,
      "outputs": [
        {
          "output_type": "stream",
          "name": "stdout",
          "text": [
            "count the no.of anand in this list : 3\n"
          ]
        }
      ]
    },
    {
      "cell_type": "code",
      "source": [
        "names=[\"anand\",\"suresh\",\"ramesh\",\"vijay\",\"ravi\"]\n",
        "extend_names=[\"guru\",\"ranjith\",\"siva\"]\n",
        "\n",
        "extend_names.extend(names)\n",
        "\n",
        "print(\"overall_names : \",extend_names)"
      ],
      "metadata": {
        "colab": {
          "base_uri": "https://localhost:8080/"
        },
        "id": "Nk2wasZKWFsx",
        "outputId": "72a8f538-98af-40d1-9b7b-04f3e13fe131"
      },
      "execution_count": 54,
      "outputs": [
        {
          "output_type": "stream",
          "name": "stdout",
          "text": [
            "overall_names :  ['guru', 'ranjith', 'siva', 'anand', 'suresh', 'ramesh', 'vijay', 'ravi']\n"
          ]
        }
      ]
    },
    {
      "cell_type": "code",
      "source": [
        "names=[\"anand\",\"suresh\",\"ramesh\",\"vijay\",\"ravi\"]\n",
        "index_value=names.index(\"ramesh\")\n",
        "\n",
        "print(index_value)"
      ],
      "metadata": {
        "colab": {
          "base_uri": "https://localhost:8080/"
        },
        "id": "BOoPAxJmZGeI",
        "outputId": "dfe7cf7c-18cf-4fbf-ed82-6bd99dbe3244"
      },
      "execution_count": 55,
      "outputs": [
        {
          "output_type": "stream",
          "name": "stdout",
          "text": [
            "2\n"
          ]
        }
      ]
    },
    {
      "cell_type": "code",
      "source": [
        "list1=[\"anand\",\"suresh\",\"ramesh\",\"vijay\",\"ravi\"]\n",
        "\n",
        "list1.insert(2,\"rajesh\")\n",
        "\n",
        "\n",
        "print(list1)"
      ],
      "metadata": {
        "colab": {
          "base_uri": "https://localhost:8080/"
        },
        "id": "7CnhMyQrZoFt",
        "outputId": "966ff53a-d50c-43ee-d985-796229f6af12"
      },
      "execution_count": 61,
      "outputs": [
        {
          "output_type": "stream",
          "name": "stdout",
          "text": [
            "['anand', 'suresh', 'rajesh', 'ramesh', 'vijay', 'ravi']\n"
          ]
        }
      ]
    },
    {
      "cell_type": "code",
      "source": [
        "names=[\"anand\",\"suresh\",\"ramesh\",\"vijay\",\"ravi\"]\n",
        "\n",
        "removed_name=names.pop(3)\n",
        "\n",
        "\n",
        "print(removed_name)\n",
        "print(\"final_list : \",names)"
      ],
      "metadata": {
        "colab": {
          "base_uri": "https://localhost:8080/"
        },
        "id": "0VBW5yGzabh4",
        "outputId": "ae7b4caa-4209-47f9-9279-26f00ad4800c"
      },
      "execution_count": 68,
      "outputs": [
        {
          "output_type": "stream",
          "name": "stdout",
          "text": [
            "vijay\n",
            "final_list :  ['anand', 'suresh', 'ramesh', 'ravi']\n"
          ]
        }
      ]
    },
    {
      "cell_type": "code",
      "source": [
        "names=[\"anand\",\"suresh\",\"ramesh\",\"vijay\",\"ravi\"]\n",
        "\n",
        "names.reverse()\n",
        "\n",
        "print(\"reverse_names\",names)"
      ],
      "metadata": {
        "colab": {
          "base_uri": "https://localhost:8080/"
        },
        "id": "YXCzoo1Kbxqs",
        "outputId": "209205b3-1e6f-4b5e-a827-c0ebac8e4ae8"
      },
      "execution_count": 73,
      "outputs": [
        {
          "output_type": "stream",
          "name": "stdout",
          "text": [
            "reverse_names ['ravi', 'vijay', 'ramesh', 'suresh', 'anand']\n"
          ]
        }
      ]
    },
    {
      "cell_type": "code",
      "source": [
        "names=[\"anand\",\"suresh\",\"ramesh\"]   #another example coming down\n",
        "                                      #using numbers\n",
        "names.sort()\n",
        "\n",
        "print(names)"
      ],
      "metadata": {
        "colab": {
          "base_uri": "https://localhost:8080/"
        },
        "id": "FTRIHeYtceKK",
        "outputId": "24032680-a22c-47bf-9ec1-ee03f4971332"
      },
      "execution_count": 75,
      "outputs": [
        {
          "output_type": "stream",
          "name": "stdout",
          "text": [
            "['anand', 'ramesh', 'suresh']\n"
          ]
        }
      ]
    },
    {
      "cell_type": "code",
      "source": [
        "numbers=[1,4,5,7,2,8,3,9,0,6]\n",
        "\n",
        "numbers.sort()\n",
        "\n",
        "print(\"sorted_numbers =\",numbers)"
      ],
      "metadata": {
        "colab": {
          "base_uri": "https://localhost:8080/"
        },
        "id": "_Bv1kpvmc9PK",
        "outputId": "4a54c30b-5261-4522-e8f1-7abbeaafc97c"
      },
      "execution_count": 76,
      "outputs": [
        {
          "output_type": "stream",
          "name": "stdout",
          "text": [
            "sorted_numbers = [0, 1, 2, 3, 4, 5, 6, 7, 8, 9]\n"
          ]
        }
      ]
    }
  ]
}