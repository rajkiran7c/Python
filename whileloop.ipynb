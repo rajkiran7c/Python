{
  "nbformat": 4,
  "nbformat_minor": 0,
  "metadata": {
    "colab": {
      "provenance": [],
      "authorship_tag": "ABX9TyPw0xMCnf7jITiXF9DTtNmI",
      "include_colab_link": true
    },
    "kernelspec": {
      "name": "python3",
      "display_name": "Python 3"
    },
    "language_info": {
      "name": "python"
    }
  },
  "cells": [
    {
      "cell_type": "markdown",
      "metadata": {
        "id": "view-in-github",
        "colab_type": "text"
      },
      "source": [
        "<a href=\"https://colab.research.google.com/github/rajkiran7c/rajkiran7c/blob/main/whileloop.ipynb\" target=\"_parent\"><img src=\"https://colab.research.google.com/assets/colab-badge.svg\" alt=\"Open In Colab\"/></a>"
      ]
    },
    {
      "cell_type": "code",
      "source": [
        "n=1\n",
        "while n<3:\n",
        "  print(\"rajkiran\")\n",
        "  n+=1\n"
      ],
      "metadata": {
        "colab": {
          "base_uri": "https://localhost:8080/"
        },
        "id": "SMyFcYV8km8l",
        "outputId": "621751bb-b18a-4ca0-99be-69501d547a5e"
      },
      "execution_count": 4,
      "outputs": [
        {
          "output_type": "stream",
          "name": "stdout",
          "text": [
            "rajkiran\n",
            "rajkiran\n"
          ]
        }
      ]
    },
    {
      "cell_type": "code",
      "source": [
        "n=1\n",
        "while n<=8:\n",
        "  print(\"rajkiran\")\n",
        "  n+=2\n",
        "  if n==7:\n",
        "     break\n"
      ],
      "metadata": {
        "colab": {
          "base_uri": "https://localhost:8080/"
        },
        "id": "aw3V3dFIJYaZ",
        "outputId": "32a15a0f-f1ab-4aff-d910-0f8edf3fce6f"
      },
      "execution_count": 5,
      "outputs": [
        {
          "output_type": "stream",
          "name": "stdout",
          "text": [
            "rajkiran\n",
            "rajkiran\n",
            "rajkiran\n"
          ]
        }
      ]
    },
    {
      "cell_type": "code",
      "source": [
        "nam=[\"raj\",\"kiran\",234,\"kishor\",\"DSSA\"]\n",
        "n=0\n",
        "while n<len(nam):\n",
        "  print(nam[n])\n",
        "  n+=1\n"
      ],
      "metadata": {
        "colab": {
          "base_uri": "https://localhost:8080/"
        },
        "id": "ECl2xegQJVev",
        "outputId": "fe6c95fd-42c4-4626-a8a7-9522caaf6eec"
      },
      "execution_count": 6,
      "outputs": [
        {
          "output_type": "stream",
          "name": "stdout",
          "text": [
            "raj\n",
            "kiran\n",
            "234\n",
            "kishor\n",
            "DSSA\n"
          ]
        }
      ]
    },
    {
      "cell_type": "code",
      "source": [
        "n=1\n",
        "while n<6:\n",
        "  print(\"hai\")\n",
        "  n=n+1\n"
      ],
      "metadata": {
        "colab": {
          "base_uri": "https://localhost:8080/"
        },
        "id": "S-xPlFpqJS-Y",
        "outputId": "0bbdd07c-c8b3-4c3f-9a68-43ee71a89d9f"
      },
      "execution_count": 7,
      "outputs": [
        {
          "output_type": "stream",
          "name": "stdout",
          "text": [
            "hai\n",
            "hai\n",
            "hai\n",
            "hai\n",
            "hai\n"
          ]
        }
      ]
    },
    {
      "cell_type": "code",
      "source": [
        "name1=[\"raj\",\"kishore\",\"ladha\",\"durai\",\"kiran\",\"kumar\"]\n",
        "search=input(\"search the name :\" )\n",
        "i=0\n",
        "while i<len(name1):\n",
        "   print(name1[i])\n",
        "   if name1[i]==search:\n",
        "\n",
        "    print(i)\n",
        "    break\n",
        "   i+=1\n",
        "print(name1)"
      ],
      "metadata": {
        "id": "LR7B0UxdDT8n",
        "colab": {
          "base_uri": "https://localhost:8080/"
        },
        "outputId": "1aec076c-279d-4592-f652-5fbdf62c3095"
      },
      "execution_count": null,
      "outputs": [
        {
          "output_type": "stream",
          "name": "stdout",
          "text": [
            "search the name :kirab\n",
            "raj\n",
            "kishore\n",
            "ladha\n",
            "durai\n",
            "kiran\n",
            "kumar\n",
            "['raj', 'kishore', 'ladha', 'durai', 'kiran', 'kumar']\n"
          ]
        }
      ]
    },
    {
      "cell_type": "code",
      "source": [],
      "metadata": {
        "id": "UyCirDCkQcCY"
      },
      "execution_count": null,
      "outputs": []
    },
    {
      "cell_type": "code",
      "source": [],
      "metadata": {
        "id": "PKKEWC9Z9aYr"
      },
      "execution_count": null,
      "outputs": []
    },
    {
      "cell_type": "code",
      "execution_count": null,
      "metadata": {
        "id": "2BfwyPe8Ed6H"
      },
      "outputs": [],
      "source": [
        "\n"
      ]
    }
  ]
}