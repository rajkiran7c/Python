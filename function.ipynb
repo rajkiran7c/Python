{
  "nbformat": 4,
  "nbformat_minor": 0,
  "metadata": {
    "colab": {
      "provenance": [],
      "include_colab_link": true
    },
    "kernelspec": {
      "name": "python3",
      "display_name": "Python 3"
    },
    "language_info": {
      "name": "python"
    }
  },
  "cells": [
    {
      "cell_type": "markdown",
      "metadata": {
        "id": "view-in-github",
        "colab_type": "text"
      },
      "source": [
        "<a href=\"https://colab.research.google.com/github/rajkiran7c/rajkiran7c/blob/main/function.ipynb\" target=\"_parent\"><img src=\"https://colab.research.google.com/assets/colab-badge.svg\" alt=\"Open In Colab\"/></a>"
      ]
    },
    {
      "cell_type": "code",
      "source": [
        "def start(a):\n",
        "    print(a)\n",
        "\n",
        "start(4)"
      ],
      "metadata": {
        "colab": {
          "base_uri": "https://localhost:8080/"
        },
        "id": "JVCQcSZ3TYWW",
        "outputId": "94aafed3-7037-4bf0-e688-f213f00c0301"
      },
      "execution_count": null,
      "outputs": [
        {
          "output_type": "stream",
          "name": "stdout",
          "text": [
            "4\n"
          ]
        }
      ]
    },
    {
      "cell_type": "code",
      "execution_count": null,
      "metadata": {
        "id": "v9OavBzL4J-F",
        "colab": {
          "base_uri": "https://localhost:8080/"
        },
        "outputId": "7db7acbb-40e1-4e0e-c726-4c42ad19e2c7"
      },
      "outputs": [
        {
          "output_type": "stream",
          "name": "stdout",
          "text": [
            "1 2\n",
            "-1\n",
            "3\n",
            "1\n",
            "2\n"
          ]
        }
      ],
      "source": [
        "def number(a, b):\n",
        "    print (a,b)\n",
        "    print(a-b)\n",
        "    print(a+b)\n",
        "    print(a)\n",
        "    print(b)\n",
        "number(1, 2)\n"
      ]
    },
    {
      "cell_type": "code",
      "source": [
        "def list(a,b,c):\n",
        "  print(a,b,c)\n",
        "  print(a+b+c)\n",
        "  print(a+b-c)\n",
        "\n",
        "list(12,34,56)\n",
        "print(type(list))"
      ],
      "metadata": {
        "colab": {
          "base_uri": "https://localhost:8080/"
        },
        "id": "8STou8b_wpQT",
        "outputId": "d0a3c4d5-1744-4922-f366-71ae3c9940ca"
      },
      "execution_count": null,
      "outputs": [
        {
          "output_type": "stream",
          "name": "stdout",
          "text": [
            "12 34 56\n",
            "102\n",
            "-10\n",
            "<class 'function'>\n"
          ]
        }
      ]
    },
    {
      "cell_type": "code",
      "source": [
        "def missing_number(x,y):\n",
        "             print(x,y)\n",
        "print(1,2,3,4)\n",
        "missing_number(5,6)\n",
        "print(7,8,9,0)"
      ],
      "metadata": {
        "colab": {
          "base_uri": "https://localhost:8080/"
        },
        "id": "TOVgw-uNxjsR",
        "outputId": "75bdc3d3-9bbe-44df-c9a4-9d1e8c3ca31f"
      },
      "execution_count": null,
      "outputs": [
        {
          "output_type": "stream",
          "name": "stdout",
          "text": [
            "1 2 3 4\n",
            "5 6\n",
            "7 8 9 0\n"
          ]
        }
      ]
    },
    {
      "cell_type": "code",
      "source": [
        "def total(a,b):\n",
        "     c=a+b\n",
        "     print(\"total number is\", c)\n",
        "\n",
        "\n",
        "total(2,3)"
      ],
      "metadata": {
        "colab": {
          "base_uri": "https://localhost:8080/"
        },
        "id": "YjtWpznZRt3x",
        "outputId": "ba574efb-8d7a-4aba-ff4d-c6358ddf4ce2"
      },
      "execution_count": null,
      "outputs": [
        {
          "output_type": "stream",
          "name": "stdout",
          "text": [
            "total number is 5\n"
          ]
        }
      ]
    },
    {
      "cell_type": "code",
      "source": [
        "def sub(x,y):\n",
        "    z=(y-x)\n",
        "    print(\"the balance is \",z)\n",
        "\n",
        "sub(1,2)"
      ],
      "metadata": {
        "colab": {
          "base_uri": "https://localhost:8080/"
        },
        "id": "8s2UeHY5Szhc",
        "outputId": "ad7fb5d6-f5d9-476b-944b-5eff02f84ec5"
      },
      "execution_count": null,
      "outputs": [
        {
          "output_type": "stream",
          "name": "stdout",
          "text": [
            "the balance is  1\n"
          ]
        }
      ]
    },
    {
      "cell_type": "code",
      "source": [
        "def missing_number(a,b):\n",
        "             print(a,b)\n",
        "\n",
        "x=int(input(\"enter value : \"))\n",
        "y=int(input(\"enter value : \"))\n",
        "missing_number(a=x,b=y)\n",
        "\n",
        "print(1,2,3,4)\n",
        "missing_number(x,y)\n",
        "print(7,8,9,0)"
      ],
      "metadata": {
        "colab": {
          "base_uri": "https://localhost:8080/"
        },
        "id": "iTxf-e6T0PdJ",
        "outputId": "99cc45af-7e7c-4850-9fe0-5ec8f85de230"
      },
      "execution_count": null,
      "outputs": [
        {
          "output_type": "stream",
          "name": "stdout",
          "text": [
            "enter value : 5\n",
            "enter value : 6\n",
            "5 6\n",
            "1 2 3 4\n",
            "5 6\n",
            "7 8 9 0\n"
          ]
        }
      ]
    },
    {
      "cell_type": "code",
      "source": [
        "def bike(a,b,c,d):\n",
        "   print(a,b,c,d)\n",
        "   print(a+b+c+d)\n",
        "\n",
        "x=int(input())\n",
        "y=int(input())\n",
        "z=int(input())\n",
        "q=int(input())\n",
        "\n",
        "print(\"fzs\")\n",
        "bike(a=q,b=z,c=y,d=x)\n",
        "print(\"v3\")"
      ],
      "metadata": {
        "colab": {
          "base_uri": "https://localhost:8080/"
        },
        "id": "LwN89gVf2xxq",
        "outputId": "cd71cd72-13ea-4424-c33e-7a04e7c98910"
      },
      "execution_count": null,
      "outputs": [
        {
          "output_type": "stream",
          "name": "stdout",
          "text": [
            "6\n",
            "5\n",
            "7\n",
            "7\n",
            "fzs\n",
            "7 7 5 6\n",
            "25\n",
            "v3\n"
          ]
        }
      ]
    },
    {
      "cell_type": "code",
      "source": [
        "def yamaha(a,b,c,d):\n",
        "     print(a,b,c,d)\n",
        "\n",
        "x=int(input())\n",
        "y=int(input())\n",
        "z=int(input())\n",
        "q=int(input())\n",
        "\n",
        "\n",
        "print(\"my bike\")\n",
        "print(\"number is\")\n",
        "yamaha(a=x,b=q,c=z,d=y)\n",
        "\n"
      ],
      "metadata": {
        "colab": {
          "base_uri": "https://localhost:8080/"
        },
        "id": "zPglKycC7hc2",
        "outputId": "cc4f0131-3447-4641-aa5d-32289002289d"
      },
      "execution_count": null,
      "outputs": [
        {
          "output_type": "stream",
          "name": "stdout",
          "text": [
            "8\n",
            "8\n",
            "8\n",
            "7\n",
            "my bike\n",
            "number is\n",
            "8 7 8 8\n"
          ]
        }
      ]
    },
    {
      "cell_type": "code",
      "source": [
        "def info(name,course):\n",
        "    print(\"hai,\")\n",
        "    print(\"i am,\",name,\",\")\n",
        "    print(\"from \",course, \"department.\")\n",
        "\n",
        "info(\"rajkiran\",\"data_science\")\n",
        "\n"
      ],
      "metadata": {
        "id": "Bmok-5QozFdS",
        "colab": {
          "base_uri": "https://localhost:8080/"
        },
        "outputId": "c5f2e48b-fa8d-4457-8e53-f917be681048"
      },
      "execution_count": null,
      "outputs": [
        {
          "output_type": "stream",
          "name": "stdout",
          "text": [
            "hai,\n",
            "i am, rajkiran ,\n",
            "from  data_science department.\n"
          ]
        }
      ]
    },
    {
      "cell_type": "code",
      "source": [],
      "metadata": {
        "id": "iKQbxIQjWL4O"
      },
      "execution_count": null,
      "outputs": []
    }
  ]
}