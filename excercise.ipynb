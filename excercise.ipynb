{
  "nbformat": 4,
  "nbformat_minor": 0,
  "metadata": {
    "colab": {
      "provenance": [],
      "authorship_tag": "ABX9TyMxpBoo3CFXBnmPpEfcmxoT",
      "include_colab_link": true
    },
    "kernelspec": {
      "name": "python3",
      "display_name": "Python 3"
    },
    "language_info": {
      "name": "python"
    }
  },
  "cells": [
    {
      "cell_type": "markdown",
      "metadata": {
        "id": "view-in-github",
        "colab_type": "text"
      },
      "source": [
        "<a href=\"https://colab.research.google.com/github/rajkiran7c/Python/blob/main/excercise.ipynb\" target=\"_parent\"><img src=\"https://colab.research.google.com/assets/colab-badge.svg\" alt=\"Open In Colab\"/></a>"
      ]
    },
    {
      "cell_type": "code",
      "source": [
        "                                                 #extend,copy,\n",
        "                                            #index,insert,pop,remove,reverse,sort,append,\n",
        "                          #insert and pop must have (index_value,string)"
      ],
      "metadata": {
        "id": "qpryAHLioRqZ"
      },
      "execution_count": null,
      "outputs": []
    },
    {
      "cell_type": "code",
      "source": [
        "list=[\"raj\",\"kiran\",\"kishore\",\"kumar\",\"ladha\",\"durai\"]\n",
        "list.append(\"samy\")\n",
        "print(list)"
      ],
      "metadata": {
        "colab": {
          "base_uri": "https://localhost:8080/"
        },
        "id": "025fZbMkoVPk",
        "outputId": "b7ccbf7c-3d94-410a-d098-af36438bfcff"
      },
      "execution_count": null,
      "outputs": [
        {
          "output_type": "stream",
          "name": "stdout",
          "text": [
            "['raj', 'kiran', 'kishore', 'kumar', 'ladha', 'durai', 'samy']\n"
          ]
        }
      ]
    },
    {
      "cell_type": "code",
      "source": [
        "list=[\"raj\",\"kiran\",\"kishore\",\"kumar\",\"ladha\",\"durai\"]\n",
        "list.sort()\n",
        "print(list)"
      ],
      "metadata": {
        "colab": {
          "base_uri": "https://localhost:8080/"
        },
        "id": "NzclmkBStPst",
        "outputId": "70fccada-3f8d-4e3f-a33e-aca7527dfc3e"
      },
      "execution_count": null,
      "outputs": [
        {
          "output_type": "stream",
          "name": "stdout",
          "text": [
            "['durai', 'kiran', 'kishore', 'kumar', 'ladha', 'raj']\n"
          ]
        }
      ]
    },
    {
      "cell_type": "code",
      "source": [
        "list=[\"raj\",\"kiran\",\"kishore\",\"kumar\",\"ladha\",\"durai\"]\n",
        "list.reverse()\n",
        "print(list)"
      ],
      "metadata": {
        "colab": {
          "base_uri": "https://localhost:8080/"
        },
        "id": "HfWfciHFtJNT",
        "outputId": "27eb6283-c1ad-4bb6-e4a4-de28c8d045d2"
      },
      "execution_count": null,
      "outputs": [
        {
          "output_type": "stream",
          "name": "stdout",
          "text": [
            "['durai', 'ladha', 'kumar', 'kishore', 'kiran', 'raj']\n"
          ]
        }
      ]
    },
    {
      "cell_type": "code",
      "source": [
        "list=[\"raj\",\"kiran\",\"kishore\",\"kumar\",\"ladha\",\"durai\"]\n",
        "list.remove(\"raj\")\n",
        "print(list)"
      ],
      "metadata": {
        "colab": {
          "base_uri": "https://localhost:8080/"
        },
        "id": "udIPQdH0tBMe",
        "outputId": "5bb9be5a-b28f-4d7d-8467-df3a7b0ac3bd"
      },
      "execution_count": null,
      "outputs": [
        {
          "output_type": "stream",
          "name": "stdout",
          "text": [
            "['kiran', 'kishore', 'kumar', 'ladha', 'durai']\n"
          ]
        }
      ]
    },
    {
      "cell_type": "code",
      "source": [
        "list=[\"raj\",\"kiran\",\"kishore\",\"kumar\",\"ladha\",\"durai\"]\n",
        "list.insert(6,\"samy\")\n",
        "print(list)"
      ],
      "metadata": {
        "colab": {
          "base_uri": "https://localhost:8080/"
        },
        "id": "vNi42vyxrIOS",
        "outputId": "2a43f0c1-d62c-4544-dc3c-3395b7e8bc73"
      },
      "execution_count": null,
      "outputs": [
        {
          "output_type": "stream",
          "name": "stdout",
          "text": [
            "['raj', 'kiran', 'kishore', 'kumar', 'ladha', 'durai', 'samy']\n"
          ]
        }
      ]
    },
    {
      "cell_type": "code",
      "source": [
        "list=[\"raj\",\"kiran\",\"kishore\",\"kumar\",\"ladha\",\"durai\"]\n",
        "list.pop(1)\n",
        "print(list)"
      ],
      "metadata": {
        "colab": {
          "base_uri": "https://localhost:8080/"
        },
        "id": "1jEevfzJrThU",
        "outputId": "e6599cc8-8e40-4427-d146-5626e721014d"
      },
      "execution_count": null,
      "outputs": [
        {
          "output_type": "stream",
          "name": "stdout",
          "text": [
            "['raj', 'kishore', 'kumar', 'ladha', 'durai']\n"
          ]
        }
      ]
    },
    {
      "cell_type": "code",
      "source": [
        "list=[\"raj\",\"kiran\",\"kishore\",\"kumar\",\"ladha\",\"durai\"]\n",
        "list.index(\"ladha\")"
      ],
      "metadata": {
        "colab": {
          "base_uri": "https://localhost:8080/"
        },
        "id": "TPUSJMIPq9Vm",
        "outputId": "b71fb897-e5d2-4482-9d97-8796556cb774"
      },
      "execution_count": null,
      "outputs": [
        {
          "output_type": "execute_result",
          "data": {
            "text/plain": [
              "4"
            ]
          },
          "metadata": {},
          "execution_count": 50
        }
      ]
    },
    {
      "cell_type": "code",
      "source": [
        "list=[\"raj\",\"kiran\",\"kishore\",\"kumar\",\"ladha\",\"durai\"]\n",
        "list2=[\"rx100\",\"pulsar\"]\n",
        "list2.extend(list)\n",
        "print(list2)"
      ],
      "metadata": {
        "colab": {
          "base_uri": "https://localhost:8080/"
        },
        "id": "CqLV7koYqGx-",
        "outputId": "ffa8fcdc-0521-441a-e7cf-bf5c64cc5b75"
      },
      "execution_count": null,
      "outputs": [
        {
          "output_type": "stream",
          "name": "stdout",
          "text": [
            "['rx100', 'pulsar', 'raj', 'kiran', 'kishore', 'kumar', 'ladha', 'durai']\n"
          ]
        }
      ]
    },
    {
      "cell_type": "code",
      "source": [
        "list=[\"raj\",\"kiran\",\"kishore\",\"kumar\",\"ladha\",\"durai\"]\n",
        "list2=list.copy()\n",
        "\n",
        "print(list2)"
      ],
      "metadata": {
        "colab": {
          "base_uri": "https://localhost:8080/"
        },
        "id": "71XFadguqgfh",
        "outputId": "c40d37c6-d70b-4c07-b900-0c06ff6f2623"
      },
      "execution_count": null,
      "outputs": [
        {
          "output_type": "stream",
          "name": "stdout",
          "text": [
            "['raj', 'kiran', 'kishore', 'kumar', 'ladha', 'durai']\n"
          ]
        }
      ]
    },
    {
      "cell_type": "code",
      "source": [
        "list=[\"raj\",\"kiran\",\"kishore\",\"kumar\",\"ladha\",\"durai\"]\n",
        "name=0\n",
        "while name<len(list):\n",
        "      print(list[name])\n",
        "      name+=1"
      ],
      "metadata": {
        "colab": {
          "base_uri": "https://localhost:8080/"
        },
        "id": "O2caRGW1Esj-",
        "outputId": "9d150d07-6646-48ab-ac99-042ec7b800b8"
      },
      "execution_count": null,
      "outputs": [
        {
          "output_type": "stream",
          "name": "stdout",
          "text": [
            "raj\n",
            "kiran\n",
            "kishore\n",
            "kumar\n",
            "ladha\n",
            "durai\n"
          ]
        }
      ]
    },
    {
      "cell_type": "code",
      "source": [
        "list=[\"raj\",\"kiran\",\"kishore\",\"kumar\",\"ladha\",\"durai\"]\n",
        "name=0\n",
        "while name<len(list):\n",
        "     if name==\"kumar\":\n",
        "\n",
        "\n"
      ],
      "metadata": {
        "colab": {
          "base_uri": "https://localhost:8080/",
          "height": 131
        },
        "id": "vgN4p6eVGJAz",
        "outputId": "95b4e11a-ef32-46fb-df37-5a66d1fd9f44"
      },
      "execution_count": null,
      "outputs": [
        {
          "output_type": "error",
          "ename": "SyntaxError",
          "evalue": "ignored",
          "traceback": [
            "\u001b[0;36m  File \u001b[0;32m\"<ipython-input-13-282e34a1f691>\"\u001b[0;36m, line \u001b[0;32m6\u001b[0m\n\u001b[0;31m    \u001b[0m\n\u001b[0m    ^\u001b[0m\n\u001b[0;31mSyntaxError\u001b[0m\u001b[0;31m:\u001b[0m incomplete input\n"
          ]
        }
      ]
    },
    {
      "cell_type": "code",
      "source": [
        "\n",
        "while i<12:\n",
        "  i=i+1\n",
        "  if i%2==0:\n",
        "   print(i)\n"
      ],
      "metadata": {
        "colab": {
          "base_uri": "https://localhost:8080/"
        },
        "id": "NUc9K9VGLqnf",
        "outputId": "84c7c93c-2ceb-4588-c3bd-99ac52b2aee5"
      },
      "execution_count": null,
      "outputs": [
        {
          "output_type": "stream",
          "name": "stdout",
          "text": [
            "4\n",
            "6\n",
            "8\n",
            "10\n",
            "12\n"
          ]
        }
      ]
    },
    {
      "cell_type": "code",
      "source": [
        "i=10\n",
        "while i>10:\n",
        "  print(i)\n",
        "  i=i-1"
      ],
      "metadata": {
        "colab": {
          "base_uri": "https://localhost:8080/"
        },
        "id": "ZWZq856DLNn_",
        "outputId": "471b53f0-f82e-4df8-da47-7f1e970e5d15"
      },
      "execution_count": null,
      "outputs": [
        {
          "output_type": "stream",
          "name": "stdout",
          "text": [
            "10\n",
            "9\n",
            "8\n",
            "7\n",
            "6\n",
            "5\n",
            "4\n",
            "3\n",
            "2\n",
            "1\n"
          ]
        }
      ]
    },
    {
      "cell_type": "code",
      "source": [
        "pin=1212\n",
        "print(\"welcome to atm\")\n",
        "i=0\n",
        "no_of_time=3\n",
        "try :\n",
        "    while i<3:\n",
        "      i=i+1\n",
        "      enter_pin=int(input(\"enter pin : \"))\n",
        "      if enter_pin==pin:\n",
        "        print(\"enter the withdrawl amount\")\n",
        "        break\n",
        "      else:\n",
        "        no_of_time=no_of_time-1\n",
        "        if no_of_time==2:\n",
        "           print(\"wrong pin\",no_of_time,\"left\")\n",
        "        else:\n",
        "          if no_of_time==1:\n",
        "           print(\"wrong pin\",no_of_time,\"left\")\n",
        "          else:\n",
        "             print(\"wrong pin,1card blocked\")\n",
        "except:\n",
        "  print(\"enter proper value\")"
      ],
      "metadata": {
        "colab": {
          "base_uri": "https://localhost:8080/"
        },
        "id": "5xCsbGfWYjm2",
        "outputId": "5c72151a-9721-41d1-b2dd-a96defc351cb"
      },
      "execution_count": null,
      "outputs": [
        {
          "output_type": "stream",
          "name": "stdout",
          "text": [
            "welcome to atm\n",
            "enter pin : 1212\n",
            "enter the withdrawl amount\n"
          ]
        }
      ]
    },
    {
      "cell_type": "code",
      "source": [
        "for n in range(1,9):\n",
        "\n",
        "    if n%2==0:\n",
        "     print(n)\n"
      ],
      "metadata": {
        "colab": {
          "base_uri": "https://localhost:8080/"
        },
        "id": "O5OPco4-r_L1",
        "outputId": "d37a13f3-a549-4fd8-c573-f1e76664a8fe"
      },
      "execution_count": null,
      "outputs": [
        {
          "output_type": "stream",
          "name": "stdout",
          "text": [
            "2\n",
            "4\n",
            "6\n",
            "8\n"
          ]
        }
      ]
    }
  ]
}